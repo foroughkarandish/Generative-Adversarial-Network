{
  "nbformat": 4,
  "nbformat_minor": 0,
  "metadata": {
    "colab": {
      "name": "Generative-Adversarial-Networks.ipynb",
      "provenance": [],
      "authorship_tag": "ABX9TyOZToxgTp+RMKQPa3QTk5jB",
      "include_colab_link": true
    },
    "kernelspec": {
      "name": "python3",
      "display_name": "Python 3"
    }
  },
  "cells": [
    {
      "cell_type": "markdown",
      "metadata": {
        "id": "view-in-github",
        "colab_type": "text"
      },
      "source": [
        "<a href=\"https://colab.research.google.com/github/foroughkarandish/Generative-Adversarial-Network/blob/master/Generative_Adversarial_Networks.ipynb\" target=\"_parent\"><img src=\"https://colab.research.google.com/assets/colab-badge.svg\" alt=\"Open In Colab\"/></a>"
      ]
    },
    {
      "cell_type": "code",
      "metadata": {
        "id": "Emh1bv55C9wt"
      },
      "source": [
        "import pandas as pd"
      ],
      "execution_count": null,
      "outputs": []
    },
    {
      "cell_type": "code",
      "metadata": {
        "id": "ZK_HdWhhDGf-"
      },
      "source": [
        ""
      ],
      "execution_count": null,
      "outputs": []
    },
    {
      "cell_type": "markdown",
      "metadata": {
        "id": "BtxI_0MMqLD_"
      },
      "source": [
        "**Intuition Behind GANs:**\n",
        "\n",
        "\n",
        "GANs are powerful models that learn to produce realistic objects that are difficult to distinguish from existing real ones, for instance, human faces.\n",
        "\n",
        "A GAN learns by making a generator and a discriminator, compete against each other.\n",
        "\n",
        "GANs have two components, one's called the **generator** and the other is called the discriminator.\n",
        "\n",
        "The generator learns to generate fakes that look real, to fool the discriminator.\n",
        "\n",
        "The discriminator learns to distinguish between what's real and what's fake.\n",
        "\n",
        "In summary, both models learn from their competition with each other, until the examples produced by the generator are good enough to fool the discriminator. "
      ]
    },
    {
      "cell_type": "markdown",
      "metadata": {
        "id": "m9VI9cMJtmsY"
      },
      "source": [
        "**Discriminator:**\n",
        "\n",
        "The discriminator models the probability of an example being fake given that set of inputs X. For instance, in a look at a picture of a Mona Lisa or a fake Mona Lisa and determine that with 85% probability this isn't the real one, 0.85 fake. So in this case, it will be classified as fake and that information. And not just this fake information, but this 0.85 will be given to the generator to improve its efforts. In summary, the discriminator is a type of classifier that learns to model the probability of an example being real or fake given that set of input features, like RGB pixel values for images."
      ]
    },
    {
      "cell_type": "markdown",
      "metadata": {
        "id": "9ExntLq-wcoU"
      },
      "source": [
        "**Generator:**\n",
        "\n",
        "The generator produces fake data that tries to look real. It learns to mimic that distribution of features X from the class of the data. In order to produce different outputs each time it takes random features as input."
      ]
    },
    {
      "cell_type": "markdown",
      "metadata": {
        "id": "cWgb8Sic1uZA"
      },
      "source": [
        "**Binary Cross Entropy function (BCE):**\n",
        "\n",
        "The BCE cost function has two main terms that are relevant for each of the classes. \n",
        "\n",
        "Whether prediction and the label are similar, the BCE loss is close to 0. \n",
        "\n",
        "When they're very different, that BCE loss approaches infinity. \n",
        "\n",
        "The BCE loss is performed across a mini-batch of several examples, let say n examples, maybe five examples where n equals 5. It takes the average of all those five examples. Each of those examples can be different. One of them can be 1, the other four could be 0, for their different classes."
      ]
    },
    {
      "cell_type": "code",
      "metadata": {
        "id": "WfvH9FnKqfhb"
      },
      "source": [
        ""
      ],
      "execution_count": null,
      "outputs": []
    }
  ]
}